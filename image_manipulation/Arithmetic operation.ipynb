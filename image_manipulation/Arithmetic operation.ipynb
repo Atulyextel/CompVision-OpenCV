{
 "cells": [
  {
   "cell_type": "code",
   "execution_count": 5,
   "metadata": {},
   "outputs": [],
   "source": [
    "import cv2\n",
    "import numpy as np\n",
    "\n",
    "image = cv2.imread(\"C:\\Users\\Atul Kumar Singh\\masteropencv\\images\\input.jpg\")\n",
    "\n",
    "one = np.ones(image.shape,dtype = \"uint8\")*255\n",
    "zero = np.zeros(image.shape,np.uint8)\n",
    "\n",
    "add_image = cv2.add(image,one)\n",
    "\n",
    "cv2.imshow(\"add_image\",add_image)\n",
    "\n",
    "cv2.imwrite(\"add_image.jpg\",add_image)\n",
    "\n",
    "sub_image_1 = cv2.subtract(one,image)\n",
    "\n",
    "cv2.imshow(\"sub_image_1\",sub_image_1)\n",
    "\n",
    "cv2.imwrite(\"sub_image_1.jpg\",sub_image_1)\n",
    "\n",
    "sub_image_2 = cv2.subtract(image,one)\n",
    "\n",
    "cv2.imshow(\"sub_image_2\",sub_image_2)\n",
    "\n",
    "cv2.imwrite(\"sub_image_2.jpg\",sub_image_2)\n",
    "\n",
    "sub_image_3 = cv2.subtract(zero,image)\n",
    "\n",
    "cv2.imshow(\"sub_image_3\",sub_image_3)\n",
    "\n",
    "cv2.imwrite(\"sub_image_2(zero).jpg\",sub_image_3)\n",
    "\n",
    "cv2.waitKey(0)\n",
    "\n",
    "cv2.destroyAllWindows()"
   ]
  }
 ],
 "metadata": {
  "kernelspec": {
   "display_name": "Python 2",
   "language": "python",
   "name": "python2"
  },
  "language_info": {
   "codemirror_mode": {
    "name": "ipython",
    "version": 2
   },
   "file_extension": ".py",
   "mimetype": "text/x-python",
   "name": "python",
   "nbconvert_exporter": "python",
   "pygments_lexer": "ipython2",
   "version": "2.7.13"
  }
 },
 "nbformat": 4,
 "nbformat_minor": 2
}
