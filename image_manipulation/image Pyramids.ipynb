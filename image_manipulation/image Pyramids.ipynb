{
 "cells": [
  {
   "cell_type": "code",
   "execution_count": 1,
   "metadata": {
    "scrolled": true
   },
   "outputs": [],
   "source": [
    "import cv2\n",
    "import numpy as np\n",
    "\n",
    "image = cv2.imread(\"C:\\Users\\Atul Kumar Singh\\masteropencv\\images\\input.jpg\")\n",
    "\n",
    "cv2.imshow(\"original image\",image)\n",
    "\n",
    "cv2.waitKey(0)\n",
    "\n",
    "smaller = cv2.pyrDown(image)\n",
    "larger = cv2.pyrUp(smaller)\n",
    "\n",
    "cv2.imshow(\"smaller image\",smaller)\n",
    "cv2.imwrite(\"smaller image uisng pyramid.jpg\",smaller)\n",
    "\n",
    "cv2.waitKey(0)\n",
    "\n",
    "cv2.imshow(\"larger image uisng pyramid\",larger)\n",
    "cv2.imwrite(\"larger image uisng pyramid.jpg\",larger)\n",
    "\n",
    "cv2.waitKey(0)\n",
    "cv2.destroyAllWindows()"
   ]
  }
 ],
 "metadata": {
  "kernelspec": {
   "display_name": "Python 2",
   "language": "python",
   "name": "python2"
  },
  "language_info": {
   "codemirror_mode": {
    "name": "ipython",
    "version": 2
   },
   "file_extension": ".py",
   "mimetype": "text/x-python",
   "name": "python",
   "nbconvert_exporter": "python",
   "pygments_lexer": "ipython2",
   "version": "2.7.13"
  }
 },
 "nbformat": 4,
 "nbformat_minor": 2
}
