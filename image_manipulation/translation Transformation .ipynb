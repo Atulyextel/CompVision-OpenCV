{
 "cells": [
  {
   "cell_type": "code",
   "execution_count": 4,
   "metadata": {},
   "outputs": [],
   "source": [
    "import cv2\n",
    "import numpy as np\n",
    "\n",
    "image = cv2.imread(\"C:\\Users\\Atul Kumar Singh\\masteropencv\\images\\input.jpg\")\n",
    "height , width = image.shape[:2]\n",
    "tx , ty = width/4 ,height/4\n",
    "\"\"\" translation matrix\"\"\"\n",
    "T = np.float32([[1,0,tx],[0,1,ty]])\n",
    "image = cv2.warpAffine(image,T,(width,height))\n",
    "cv2.imshow(\"translated image \",image)\n",
    "cv2.imwrite(\"translated image.jpg \",image)\n",
    "cv2.waitKey(0)\n",
    "cv2.destroyAllWindows()"
   ]
  }
 ],
 "metadata": {
  "kernelspec": {
   "display_name": "Python 2",
   "language": "python",
   "name": "python2"
  },
  "language_info": {
   "codemirror_mode": {
    "name": "ipython",
    "version": 2
   },
   "file_extension": ".py",
   "mimetype": "text/x-python",
   "name": "python",
   "nbconvert_exporter": "python",
   "pygments_lexer": "ipython2",
   "version": "2.7.13"
  }
 },
 "nbformat": 4,
 "nbformat_minor": 2
}
