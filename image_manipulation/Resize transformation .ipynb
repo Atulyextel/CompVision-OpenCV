{
 "cells": [
  {
   "cell_type": "code",
   "execution_count": 2,
   "metadata": {
    "collapsed": true
   },
   "outputs": [],
   "source": [
    "import cv2\n",
    "import numpy as np\n",
    "\n",
    "image = cv2.imread(\"C:\\Users\\Atul Kumar Singh\\masteropencv\\images\\input.jpg\")\n",
    "image = cv2.resize(image, None, fx=0.75, fy=0.75)\n",
    "cv2.imshow(\"resize image\",image)\n",
    "cv2.imwrite(\"resize image1.jpg\",image)\n",
    "image = cv2.resize(image,None,fx=2,fy=2,interpolation = cv2.INTER_CUBIC)\n",
    "cv2.imshow(\"resize image2\",image)\n",
    "cv2.imwrite(\"resize image2.jpg\",image)\n",
    "image = cv2.resize(image,(480,900),interpolation = cv2.INTER_AREA)\n",
    "cv2.imshow(\"resize image3\",image)\n",
    "cv2.imwrite(\"resize image3.jpg\",image)\n",
    "cv2.waitKey(0)\n",
    "cv2.destroyAllWindows()"
   ]
  }
 ],
 "metadata": {
  "kernelspec": {
   "display_name": "Python 2",
   "language": "python",
   "name": "python2"
  },
  "language_info": {
   "codemirror_mode": {
    "name": "ipython",
    "version": 2
   },
   "file_extension": ".py",
   "mimetype": "text/x-python",
   "name": "python",
   "nbconvert_exporter": "python",
   "pygments_lexer": "ipython2",
   "version": "2.7.13"
  }
 },
 "nbformat": 4,
 "nbformat_minor": 2
}
