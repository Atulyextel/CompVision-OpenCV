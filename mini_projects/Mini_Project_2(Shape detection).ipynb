{
 "cells": [
  {
   "cell_type": "code",
   "execution_count": 1,
   "metadata": {
    "collapsed": true
   },
   "outputs": [],
   "source": [
    "import cv2\n",
    "import numpy as np \n",
    "from random import randint as rand\n",
    "\n",
    "def x_cord_contour(c):\n",
    "    M = cv2.moments(c)\n",
    "    if (cv2.contourArea(c))>10:\n",
    "        return (int(M['m10']/M['m00']))\n",
    "\n",
    "def y_cord_contour(c):\n",
    "    M = cv2.moments(c)\n",
    "    if (cv2.contourArea(c))>10:\n",
    "        return (int(M['m01']/M['m00']))\n",
    "\n",
    "#load the image \n",
    "image = cv2.imread('images/someshapes.jpg')\n",
    "gray_image = cv2.cvtColor(image,cv2.COLOR_BGR2GRAY)\n",
    "cv2.imshow(\"image\",gray_image)\n",
    "cv2.imwrite(\"image_for_shape _detection.jpg\",gray_image)\n",
    "cv2.waitKey(0)\n",
    "\n",
    "#thresholding \n",
    "ret,threshold = cv2.threshold(gray_image,127,255,1)\n",
    "\n",
    "#find the contours in the image \n",
    "contours , hierarchy = cv2.findContours(threshold,cv2.RETR_LIST,cv2.CHAIN_APPROX_SIMPLE)\n",
    "sorted_contour_area = sorted(contours,key=cv2.contourArea,reverse=False)\n",
    "sorted_contour_hori = sorted(contours,key=x_cord_contour,reverse=True)\n",
    "sorted_contour_vert = sorted(contours,key=y_cord_contour,reverse=True)\n",
    "#check each contour \n",
    "i =1\n",
    "for c in sorted_contour_vert:\n",
    "    approx = cv2.approxPolyDP(c, 0.01*cv2.arcLength(c,True),True) \n",
    "    shape_name =\"\"\n",
    "    #finding center of contour\n",
    "    M = cv2.moments(c)\n",
    "    cx = int(M['m10']/M['m00'])\n",
    "    cy = int(M['m01']/M['m00'])\n",
    "    \n",
    "    if (len(approx) == 3):\n",
    "        shape_name = \"Triangle\"\n",
    "    elif(len(approx) == 4):\n",
    "        x,y,w,h = cv2.boundingRect(c)\n",
    "        if(w-h)<=1:\n",
    "            shape_name = \"Square\"\n",
    "        else :\n",
    "            shape_name = \"Rectangle\"\n",
    "    elif(len(approx) == 10):\n",
    "        shape_name = \"Star\"\n",
    "    elif(len(approx) >=15):\n",
    "        shape_name = \"Circle\"\n",
    "    b,g,r = rand(0,256),rand(0,256),rand(0,256)\n",
    "    cv2.drawContours(image,[c],0,(b,g,r),-1)\n",
    "    cv2.putText(image,shape_name,(cx-50,cy),cv2.FONT_HERSHEY_SIMPLEX,1,(0,0,0),1)\n",
    "    cv2.imshow(\"SHAPE DETECTION APP\",image)\n",
    "    cv2.imwrite(\"SHAPE DETECTION APP_\"+str(i)+\".jpg\",image)\n",
    "    cv2.waitKey(0)\n",
    "    i = i + 1\n",
    "\n",
    "cv2.destroyAllWindows()"
   ]
  },
  {
   "cell_type": "code",
   "execution_count": null,
   "metadata": {
    "collapsed": true,
    "scrolled": true
   },
   "outputs": [],
   "source": []
  }
 ],
 "metadata": {
  "kernelspec": {
   "display_name": "Python 2",
   "language": "python",
   "name": "python2"
  },
  "language_info": {
   "codemirror_mode": {
    "name": "ipython",
    "version": 2
   },
   "file_extension": ".py",
   "mimetype": "text/x-python",
   "name": "python",
   "nbconvert_exporter": "python",
   "pygments_lexer": "ipython2",
   "version": "2.7.13"
  }
 },
 "nbformat": 4,
 "nbformat_minor": 2
}
