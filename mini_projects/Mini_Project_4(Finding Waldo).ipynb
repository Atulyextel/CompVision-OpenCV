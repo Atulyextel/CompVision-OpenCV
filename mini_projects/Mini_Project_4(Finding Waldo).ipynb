{
 "cells": [
  {
   "cell_type": "code",
   "execution_count": 2,
   "metadata": {},
   "outputs": [],
   "source": [
    "import cv2\n",
    "import numpy as np\n",
    "\n",
    "# Load input image and convert to grayscale\n",
    "image = cv2.imread('./images/WaldoBeach.jpg')\n",
    "cv2.imshow('Where is Waldo?', image)\n",
    "cv2.imwrite('Where is Waldo?.jpg', image)\n",
    "cv2.waitKey(0)\n",
    "gray = cv2.cvtColor(image, cv2.COLOR_BGR2GRAY)\n",
    "\n",
    "# Load Template image\n",
    "template = cv2.imread('./images/waldo.jpg',0)\n",
    "h,w = template.shape\n",
    "cv2.imshow('template', template)\n",
    "cv2.imwrite('template.jpg', template)\n",
    "\n",
    "result = cv2.matchTemplate(gray,template,cv2.TM_CCOEFF)\n",
    "min_val, max_val , min_loc ,max_loc = cv2.minMaxLoc(result)\n",
    "top_left =max_loc\n",
    "bottom_right = (top_left[0]+w,top_left[1]+h)\n",
    "cv2.rectangle(image,top_left,bottom_right,255,1)\n",
    "cv2.imshow(\"image found\",image)\n",
    "cv2.imwrite(\"image found.jpg\",image)\n",
    "cv2.waitKey()\n",
    "cv2.destroyAllWindows()"
   ]
  }
 ],
 "metadata": {
  "kernelspec": {
   "display_name": "Python 2",
   "language": "python",
   "name": "python2"
  },
  "language_info": {
   "codemirror_mode": {
    "name": "ipython",
    "version": 2
   },
   "file_extension": ".py",
   "mimetype": "text/x-python",
   "name": "python",
   "nbconvert_exporter": "python",
   "pygments_lexer": "ipython2",
   "version": "2.7.13"
  }
 },
 "nbformat": 4,
 "nbformat_minor": 2
}
