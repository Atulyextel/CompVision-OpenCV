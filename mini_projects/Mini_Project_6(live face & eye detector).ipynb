{
 "cells": [
  {
   "cell_type": "code",
   "execution_count": 12,
   "metadata": {},
   "outputs": [
    {
     "name": "stdout",
     "output_type": "stream",
     "text": [
      "face not found\n",
      "face not found\n",
      "eye not found\n",
      "eye not found\n",
      "eye not found\n",
      "eye not found\n",
      "eye not found\n",
      "eye not found\n",
      "eye not found\n",
      "eye not found\n",
      "eye not found\n",
      "eye not found\n",
      "face not found\n",
      "eye not found\n",
      "face not found\n",
      "face not found\n",
      "face not found\n",
      "eye not found\n",
      "eye not found\n",
      "face not found\n",
      "face not found\n",
      "eye not found\n",
      "eye not found\n",
      "eye not found\n"
     ]
    }
   ],
   "source": [
    "import cv2\n",
    "import numpy as np\n",
    "\n",
    "def face_AND_eye_detect(image):\n",
    "    find_face = cv2.CascadeClassifier('Haarcascades/haarcascade_frontalface_default.xml')\n",
    "    find_eye = cv2.CascadeClassifier('Haarcascades/haarcascade_eye.xml')\n",
    "    \n",
    "    gray = cv2.cvtColor(image,cv2.COLOR_BGR2GRAY)\n",
    "    \n",
    "    face = find_face.detectMultiScale(gray,1.3,3)\n",
    "    \n",
    "    if face is ():\n",
    "        print \"face not found\"\n",
    "        text = \"face not found\"\n",
    "        cv2.putText(image,text,(0,25),2,1,(255,255,255),2)\n",
    "        return image \n",
    "    for (x,y,w,h) in face :\n",
    "        cv2.rectangle(image,(x,y),(x+w,y+h),(0,255,0),3)\n",
    "        cv2.imwrite(\"detcted face.jpg\",image)\n",
    "        face_gray = gray[y:y+h,x:x+w]\n",
    "        face_color = image[y:y+h,x:x+w]\n",
    "        eye = find_eye.detectMultiScale(face_gray,1.3,2)\n",
    "        \n",
    "        if eye is ():\n",
    "            print \"eye not found\"\n",
    "            text = \"eye not found\"\n",
    "            cv2.putText(image,text,(x-5,y-5),2,1,(255,255,255),2)\n",
    "            return image \n",
    "        \n",
    "        for (x,y,x2,y2) in eye:\n",
    "            cv2.rectangle(face_color,(x,y),(x+x2,y+y2),(0,0,255),3)\n",
    "            cv2.imwrite(\"detcted eye.jpg\",image)\n",
    "    \n",
    "    return image \n",
    "\n",
    "cap = cv2.VideoCapture(0)\n",
    "\n",
    "while True :\n",
    "    ret , frame = cap.read()\n",
    "    cv2.imshow(\"capturing\",frame)\n",
    "    cv2.imwrite(\"capturing.jpg\",frame)\n",
    "    \n",
    "    face_AND_eye_detect(frame)\n",
    "    \n",
    "    cv2.imshow(\"detecting\",frame)\n",
    "    cv2.imwrite(\"detecting.jpg\",frame)\n",
    "    if cv2.waitKey(1) == 13: #13 is the Enter Key\n",
    "        break\n",
    "\n",
    "cap.release()\n",
    "cv2.destroyAllWindows()   "
   ]
  }
 ],
 "metadata": {
  "kernelspec": {
   "display_name": "Python 2",
   "language": "python",
   "name": "python2"
  },
  "language_info": {
   "codemirror_mode": {
    "name": "ipython",
    "version": 2
   },
   "file_extension": ".py",
   "mimetype": "text/x-python",
   "name": "python",
   "nbconvert_exporter": "python",
   "pygments_lexer": "ipython2",
   "version": "2.7.13"
  }
 },
 "nbformat": 4,
 "nbformat_minor": 2
}
