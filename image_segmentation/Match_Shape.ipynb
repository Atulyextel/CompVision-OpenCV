{
 "cells": [
  {
   "cell_type": "code",
   "execution_count": 2,
   "metadata": {},
   "outputs": [
    {
     "name": "stdout",
     "output_type": "stream",
     "text": [
      "0.0899797838758\n",
      "0.109379820411\n",
      "0.103092376758\n",
      "0.0487953689004\n"
     ]
    }
   ],
   "source": [
    "import cv2\n",
    "import numpy as np\n",
    "\n",
    "# Load the shape template or reference image\n",
    "template = cv2.imread('images/4star.jpg',0)\n",
    "cv2.imshow('Template', template)\n",
    "blank_image_temp = np.ones(template.shape)*0\n",
    "cv2.waitKey()\n",
    "\n",
    "# Load the target image with the shapes we're trying to match\n",
    "target = cv2.imread('images/shapestomatch.jpg')\n",
    "target_gray = cv2.cvtColor(target,cv2.COLOR_BGR2GRAY)\n",
    "\n",
    "# Threshold both images first before using cv2.findContours\n",
    "ret, thresh1 = cv2.threshold(template, 127, 255, 0)\n",
    "ret, thresh2 = cv2.threshold(target_gray, 127, 255, 0)\n",
    "\n",
    "# Find contours in template\n",
    "contours, hierarchy = cv2.findContours(thresh1, cv2.RETR_CCOMP, cv2.CHAIN_APPROX_SIMPLE)\n",
    "cv2.drawContours(blank_image_temp,contours,-1,[12,150,255],3)\n",
    "cv2.imshow(\"contours in templet image \",blank_image_temp)\n",
    "\n",
    "sorted_contours = sorted(contours, key=cv2.contourArea,reverse =True)\n",
    "#set the second largest contour for testing \n",
    "test_contour = sorted_contours[1]\n",
    "\n",
    "#find contours of the target image \n",
    "contours, hierarchy = cv2.findContours(thresh2, cv2.RETR_CCOMP, cv2.CHAIN_APPROX_SIMPLE)\n",
    "\n",
    "#match the each contour of target with  test_contour\n",
    "for c in contours:\n",
    "    # Iterate through each contour in the target image and \n",
    "    # use cv2.matchShapes to compare contour shapes\n",
    "    match = cv2.matchShapes(test_contour, c, 2, 0.0)\n",
    "    print match\n",
    "    # If the match value is less than 0.15 we\n",
    "    if match < 0.15:\n",
    "        matching_contour = c\n",
    "    else:\n",
    "        matching_contour = [] \n",
    "        \n",
    "cv2.drawContours(target, [matching_contour], -1, (0,255,0), 3)\n",
    "cv2.imshow(\"the matching contour\",target)\n",
    "cv2.imwrite(\"the matching contour.jpg\",target)\n",
    "cv2.waitKey(0)\n",
    "cv2.destroyAllWindows()\n"
   ]
  },
  {
   "cell_type": "code",
   "execution_count": null,
   "metadata": {
    "collapsed": true
   },
   "outputs": [],
   "source": []
  }
 ],
 "metadata": {
  "kernelspec": {
   "display_name": "Python 2",
   "language": "python",
   "name": "python2"
  },
  "language_info": {
   "codemirror_mode": {
    "name": "ipython",
    "version": 2
   },
   "file_extension": ".py",
   "mimetype": "text/x-python",
   "name": "python",
   "nbconvert_exporter": "python",
   "pygments_lexer": "ipython2",
   "version": "2.7.13"
  }
 },
 "nbformat": 4,
 "nbformat_minor": 2
}
