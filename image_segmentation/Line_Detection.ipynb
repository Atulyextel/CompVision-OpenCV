{
 "cells": [
  {
   "cell_type": "code",
   "execution_count": null,
   "metadata": {},
   "outputs": [],
   "source": [
    "import cv2\n",
    "import numpy as np\n",
    "\n",
    "image = cv2.imread('images/soduku.jpg')\n",
    "copy_image = image.copy()\n",
    "\n",
    "#grayscale \n",
    "gray_image = cv2.cvtColor(image,cv2.COLOR_BGR2GRAY)\n",
    "\n",
    "# cnnay edge detection \n",
    "edge = cv2.Canny(gray_image,50,75)\n",
    "\n",
    "#line detection algo \n",
    "lines = cv2.HoughLines(edge, 1, np.pi / 180, 240)\n",
    "lines_2 = cv2.HoughLinesP(edge, 1, np.pi / 180, 200, 5, 10)\n",
    "# convert lines in seprate line \n",
    "for rho, theta in lines[0]:\n",
    "    a = np.cos(theta)\n",
    "    b = np.sin(theta)\n",
    "    x0 = a * rho\n",
    "    y0 = b * rho\n",
    "    x1 = int(x0 + 1000 * (-b))\n",
    "    y1 = int(y0 + 1000 * (a))\n",
    "    x2 = int(x0 - 1000 * (-b))\n",
    "    y2 = int(y0 - 1000 * (a))\n",
    "    cv2.line(image, (x1, y1), (x2, y2), (255, 0, 0), 2)\n",
    "for x1,y1,x2,y2 in lines_2[0]:\n",
    "    cv2.line(copy_image,(x1,y1),(x2,y2),(0,255,0),3)\n",
    "\n",
    "cv2.imshow(\"lines detected using HoughLinesP\",copy_image)\n",
    "cv2.imwrite(\"lines detected using HoughLinesP.jpg \",copy_image)\n",
    "cv2.imshow(\"lines detected \",image)\n",
    "cv2.imwrite(\"lines detected.jpg \",image)\n",
    "cv2.waitKey(0)\n",
    "cv2.destroyAllWindows()"
   ]
  }
 ],
 "metadata": {
  "kernelspec": {
   "display_name": "Python 2",
   "language": "python",
   "name": "python2"
  },
  "language_info": {
   "codemirror_mode": {
    "name": "ipython",
    "version": 2
   },
   "file_extension": ".py",
   "mimetype": "text/x-python",
   "name": "python",
   "nbconvert_exporter": "python",
   "pygments_lexer": "ipython2",
   "version": "2.7.13"
  }
 },
 "nbformat": 4,
 "nbformat_minor": 2
}
