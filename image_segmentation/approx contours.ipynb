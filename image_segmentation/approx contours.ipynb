{
 "cells": [
  {
   "cell_type": "code",
   "execution_count": 5,
   "metadata": {},
   "outputs": [],
   "source": [
    "import cv2\n",
    "import numpy as np\n",
    "\n",
    "# Load image and keep a copy\n",
    "image = cv2.imread('images/house.jpg')\n",
    "copy_image = image\n",
    "copy_image_2 = image\n",
    "copy_image_3 = image\n",
    "\n",
    "gray_image = cv2.cvtColor(image,cv2.COLOR_BGR2GRAY)\n",
    "h,w = gray_image.shape\n",
    "ret,binary_image = cv2.threshold(gray_image,127,255,cv2.THRESH_BINARY_INV)\n",
    "cnnay_edge = cv2.Canny(gray_image,50,100)\n",
    "\n",
    "contours , hierarchy = cv2.findContours(binary_image,cv2.RETR_LIST,cv2.CHAIN_APPROX_NONE)\n",
    "\n",
    "for (i,c) in enumerate(contours):\n",
    "    cv2.drawContours(copy_image,[c],-1,(0,255,0),3)\n",
    "    cv2.putText(copy_image,\"total no of contours = \"+str(len(contours)),(0,20),1,2,255,2)\n",
    "    cv2.imshow(\"conters on the image\",copy_image)\n",
    "    cv2.waitKey(0)\n",
    "\n",
    "for c in contours:\n",
    "    x,y,w,h = cv2.boundingRect(c)\n",
    "    cv2.rectangle(copy_image_2,(x,y),(x+w,y+h),(0,0,255),2)\n",
    "    cv2.imshow(\"bounding rectangles\",copy_image_2)\n",
    "    cv2.waitKey(0)\n",
    "    \n",
    "for (i,c) in enumerate(contours):\n",
    "    approx = 0.05 * cv2.arcLength(c,True)\n",
    "    approx_contour = cv2.approxPolyDP(c,approx,True)\n",
    "    cv2.drawContours(image,[approx_contour],-1,(0,255,0),3)\n",
    "    cv2.putText(image,\"Approx contours  \"+str(i+1),(0,20),1,2,255,2)\n",
    "    cv2.imshow(\"Approx conters on the image\",image)\n",
    "    cv2.waitKey(0)\n",
    "cv2.destroyAllWindows()\n"
   ]
  }
 ],
 "metadata": {
  "kernelspec": {
   "display_name": "Python 2",
   "language": "python",
   "name": "python2"
  },
  "language_info": {
   "codemirror_mode": {
    "name": "ipython",
    "version": 2
   },
   "file_extension": ".py",
   "mimetype": "text/x-python",
   "name": "python",
   "nbconvert_exporter": "python",
   "pygments_lexer": "ipython2",
   "version": "2.7.13"
  }
 },
 "nbformat": 4,
 "nbformat_minor": 2
}
