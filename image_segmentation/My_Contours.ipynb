{
 "cells": [
  {
   "cell_type": "code",
   "execution_count": null,
   "metadata": {},
   "outputs": [
    {
     "name": "stdout",
     "output_type": "stream",
     "text": [
      "No. of contours =  3\n"
     ]
    }
   ],
   "source": [
    "import cv2\n",
    "import numpy as np\n",
    "\n",
    "#Step 1:load your image \n",
    "image = cv2.imread('images/shapes.jpg')\n",
    "cv2.imshow(\"original image\",image)\n",
    "\n",
    "#Step 2:Grayscale the image\n",
    "gray = cv2.cvtColor(image,cv2.COLOR_BGR2GRAY)\n",
    "cv2.imshow(\"Gray image \",gray)\n",
    "#Step 3: its optional step // use to reduce noise (canny edge detection)\n",
    "canny_edge = cv2.Canny(gray,10,70)\n",
    "cv2.imshow(\"Canny egde image \",canny_edge)\n",
    "cv2.imwrite(\"Canny egde image.jpg \",canny_edge)\n",
    "\n",
    "#Step 4:here we use findContours() function to find the contours\n",
    "contours , hierarchy = cv2.findContours(canny_edge,cv2.RETR_EXTERNAL, cv2.CHAIN_APPROX_NONE)\n",
    "cv2.imshow(\"After finding contours egde _image \",canny_edge)\n",
    "cv2.imwrite(\"After finding contours egde _image.jpg \",canny_edge)\n",
    "print \"No. of contours = \", len(contours)\n",
    "\n",
    "#Step 5:now we draw the contours\n",
    "cv2.drawContours(image,contours,-1,(0,255,0),3)\n",
    "cv2.imshow(\"image with contours\",image)\n",
    "cv2.imwrite(\"image with contours.jpg\",image)\n",
    "cv2.waitKey(0)\n",
    "cv2.destroyAllWindows()"
   ]
  }
 ],
 "metadata": {
  "kernelspec": {
   "display_name": "Python 2",
   "language": "python",
   "name": "python2"
  },
  "language_info": {
   "codemirror_mode": {
    "name": "ipython",
    "version": 2
   },
   "file_extension": ".py",
   "mimetype": "text/x-python",
   "name": "python",
   "nbconvert_exporter": "python",
   "pygments_lexer": "ipython2",
   "version": "2.7.13"
  }
 },
 "nbformat": 4,
 "nbformat_minor": 2
}
