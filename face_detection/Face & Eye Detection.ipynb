{
 "cells": [
  {
   "cell_type": "code",
   "execution_count": 1,
   "metadata": {},
   "outputs": [
    {
     "name": "stdout",
     "output_type": "stream",
     "text": [
      "face ROI [[ 54  67 214 214]]\n",
      "eye ROI [[121  66  33  33]\n",
      " [ 41  79  51  51]]\n"
     ]
    }
   ],
   "source": [
    "import cv2 \n",
    "import numpy as np\n",
    "\n",
    "find_face = cv2.CascadeClassifier('Haarcascades/haarcascade_frontalface_default.xml')\n",
    "find_eye = cv2.CascadeClassifier('Haarcascades/haarcascade_eye.xml')\n",
    "\n",
    "load = cv2.imread('images/Trump.jpg')\n",
    "cv2.imshow('Face', load)\n",
    "cv2.waitKey(0)\n",
    "gray = cv2.cvtColor(load,cv2.COLOR_BGR2GRAY)\n",
    "\n",
    "face = find_face.detectMultiScale(gray, 1.05, 3)\n",
    "print \"face ROI\",face \n",
    "if face is ():\n",
    "    print(\"No faces found\")\n",
    "for (x,y,w,h) in face:\n",
    "    cv2.rectangle(load, (x,y), (x+w,y+h), (127,99,255), 2)\n",
    "    cv2.imshow('Face Detection', load)\n",
    "    cv2.imwrite('Face Detection.jpg', load)\n",
    "    cv2.waitKey(0)\n",
    "    face_gray = gray[y:y+h, x:x+w]\n",
    "    face_color = load[y:y+h, x:x+w]\n",
    "    eye = find_eye.detectMultiScale(face_gray)\n",
    "    print \"eye ROI\",eye\n",
    "    if eye is ():\n",
    "        print \"eye not found\"\n",
    "    for (ex,ey,ew,eh) in eye:\n",
    "        cv2.rectangle(face_color,(ex,ey),(ex+ew,ey+eh),(0,255,0),2)\n",
    "        cv2.imshow(\"face & eye detected\",load)\n",
    "        cv2.imwrite(\"face & eye detected.jpg\",load)\n",
    "        cv2.waitKey(0)\n",
    "    \n",
    "cv2.destroyAllWindows()"
   ]
  }
 ],
 "metadata": {
  "kernelspec": {
   "display_name": "Python 2",
   "language": "python",
   "name": "python2"
  },
  "language_info": {
   "codemirror_mode": {
    "name": "ipython",
    "version": 2
   },
   "file_extension": ".py",
   "mimetype": "text/x-python",
   "name": "python",
   "nbconvert_exporter": "python",
   "pygments_lexer": "ipython2",
   "version": "2.7.13"
  }
 },
 "nbformat": 4,
 "nbformat_minor": 2
}
