{
 "cells": [
  {
   "cell_type": "code",
   "execution_count": 6,
   "metadata": {},
   "outputs": [],
   "source": [
    "import cv2\n",
    "import numpy as np\n",
    "\n",
    "color_image = cv2.imread(\"C:\\Users\\Atul Kumar Singh\\masteropencv\\images\\input.jpg\")\n",
    "size_color_image = color_image.shape\n",
    "cv2.imshow(\"color image\",color_image)\n",
    "cv2.imshow('Blue', color_image[:, :,0])\n",
    "cv2.imshow('Green', color_image[:, :, 1])\n",
    "cv2.imshow('Red', color_image[:, :, 2])\n",
    "cv2.waitKey(0)\n",
    "cv2.destroyAllWindows()\n",
    "hsv_image = cv2.cvtColor(color_image,cv2.COLOR_BGR2HSV)\n",
    "cv2.imshow(\"hsv image\",hsv_image)\n",
    "cv2.imshow('hue', hsv_image[:, :, 0])\n",
    "cv2.imshow('saturation', hsv_image[:, :, 1])\n",
    "cv2.imshow('value', hsv_image[:, :, 2])\n",
    "cv2.waitKey(0)\n",
    "cv2.destroyAllWindows()\n",
    "B,G,R = cv2.split(color_image)\n",
    "H,S,V = cv2.split(hsv_image)\n",
    "\n",
    "cv2.imshow(\"blue part 2\",B)\n",
    "cv2.imshow(\"green part 2\",G)\n",
    "cv2.imshow(\"red part 2\",R)\n",
    "cv2.waitKey(0)\n",
    "cv2.destroyAllWindows()\n",
    "cv2.imshow(\"hue part2\",H)\n",
    "cv2.imshow(\"saturation part 2\",S)\n",
    "cv2.imshow(\"value part 2\",V)\n",
    "cv2.waitKey(0)\n",
    "cv2.destroyAllWindows()\n",
    "merged = cv2.merge([H,G,R])\n",
    "cv2.imshow(\"merged H G R\",merged)\n",
    "cv2.imshow(\"merged B G R +100 blue\",cv2.merge([B+100,G,R]))\n",
    "cv2.waitKey(0)\n",
    "cv2.destroyAllWindows()\n",
    "zeros = np.zeros(color_image.shape[:2], dtype = \"uint8\")\n",
    "\n",
    "cv2.imshow(\"Red\", cv2.merge([zeros, zeros, R]))\n",
    "cv2.imshow(\"Green\", cv2.merge([zeros, G, zeros]))\n",
    "cv2.imshow(\"Blue\", cv2.merge([B, zeros, zeros]))\n",
    "\n",
    "cv2.waitKey(0)\n",
    "cv2.destroyAllWindows()\n",
    "zeros = np.zeros(hsv_image.shape[:2], dtype = \"uint8\")\n",
    "cv2.imshow(\"Hue\", cv2.merge([zeros, zeros, H]))\n",
    "cv2.imshow(\"Saturation\", cv2.merge([zeros, S, zeros]))\n",
    "cv2.imshow(\"Value\", cv2.merge([V, zeros, zeros]))\n",
    "\n",
    "cv2.waitKey(0)\n",
    "cv2.destroyAllWindows()"
   ]
  }
 ],
 "metadata": {
  "kernelspec": {
   "display_name": "Python 2",
   "language": "python",
   "name": "python2"
  },
  "language_info": {
   "codemirror_mode": {
    "name": "ipython",
    "version": 2
   },
   "file_extension": ".py",
   "mimetype": "text/x-python",
   "name": "python",
   "nbconvert_exporter": "python",
   "pygments_lexer": "ipython2",
   "version": "2.7.13"
  }
 },
 "nbformat": 4,
 "nbformat_minor": 2
}
