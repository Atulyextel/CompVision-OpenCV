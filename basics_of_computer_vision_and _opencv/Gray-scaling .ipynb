{
 "cells": [
  {
   "cell_type": "code",
   "execution_count": 1,
   "metadata": {},
   "outputs": [
    {
     "name": "stdout",
     "output_type": "stream",
     "text": [
      "19 24 39\n",
      "size of image is  (830L, 1245L, 3L)\n",
      "size of image is  (830L, 1245L)\n"
     ]
    }
   ],
   "source": [
    "import cv2\n",
    "import numpy as np\n",
    "input = cv2.imread(\"C:\\Users\\Atul Kumar Singh\\masteropencv\\images\\input.jpg\")\n",
    "cv2.imshow(\"orignal\",input)\n",
    "cv2.waitKey()\n",
    "grey  = cv2.cvtColor(input,cv2.COLOR_BGR2GRAY)\n",
    "cv2.imshow(\"grey image\",grey)\n",
    "cv2.waitKey()\n",
    "size_original = input.shape\n",
    "size_grey = grey.shape\n",
    "B, G, R = input[829,1244]\n",
    "print B , G, R\n",
    "print \"size of image is \", size_original\n",
    "print \"size of image is \", size_grey\n",
    "cv2.imwrite(\"output.jpg\",input)\n",
    "cv2.imwrite(\"output.png\",input)\n",
    "cv2.destroyAllWindows()"
   ]
  }
 ],
 "metadata": {
  "kernelspec": {
   "display_name": "Python 2",
   "language": "python",
   "name": "python2"
  },
  "language_info": {
   "codemirror_mode": {
    "name": "ipython",
    "version": 2
   },
   "file_extension": ".py",
   "mimetype": "text/x-python",
   "name": "python",
   "nbconvert_exporter": "python",
   "pygments_lexer": "ipython2",
   "version": "2.7.13"
  }
 },
 "nbformat": 4,
 "nbformat_minor": 2
}
