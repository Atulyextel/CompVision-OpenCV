{
 "cells": [
  {
   "cell_type": "code",
   "execution_count": 11,
   "metadata": {},
   "outputs": [],
   "source": [
    "import cv2\n",
    "import numpy as np\n",
    "color_image = np.zeros((512,512,3),dtype= \"uint8\")\n",
    "grey_image = np.zeros((512,512), np.uint8)\n",
    "cv2.imshow(\"color image \",color_image)\n",
    "cv2.imwrite(\"color image.jpg\",color_image)\n",
    "cv2.imshow(\"grey image\", grey_image)\n",
    "cv2.imwrite(\"grey image.jpg\", grey_image)\n",
    "cv2.line(color_image,(0,0),(0,511),(215,55,202),10)\n",
    "cv2.imshow(\"color image with line \",color_image)\n",
    "cv2.imwrite(\"color image with line.jpg\",color_image)\n",
    "cv2.rectangle(color_image,(200,20),(100,300),(215,55,202),5)\n",
    "cv2.imshow(\"color image with line & rectangle \",color_image)\n",
    "cv2.imwrite(\"color image with line & rectangle.jpg\",color_image)\n",
    "cv2.circle(color_image, (60, 160), 140, (15,75,50), -1) \n",
    "cv2.imshow(\"color image with line & rectangle & cirlce\",color_image)\n",
    "cv2.imwrite(\"color image with line & rectangle & cirlce.jpg\",color_image)\n",
    "pts = np.array([[22,33],[87,25],[88,74],[36,96]], np.int32)\n",
    "pts = pts.reshape((-1,1,2))\n",
    "cv2.polylines(color_image,[pts],True,(225,0,0),5)\n",
    "cv2.imshow(\"color image with line & rectangle & cirlce & polygon \",color_image)\n",
    "cv2.imwrite(\"color image with line & rectangle & cirlce & polygon.jpg\",color_image)\n",
    "cv2.putText(color_image,\"hey bro\",(150,200),cv2.FONT_HERSHEY_SCRIPT_COMPLEX,2,(111,122,103),5)\n",
    "cv2.imshow(\"color image with line & rectangle & cirlce & polygon & text \",color_image)\n",
    "cv2.imwrite(\"color image with line & rectangle & cirlce & polygon & text .jpg\",color_image)\n",
    "cv2.waitKey(0)\n",
    "cv2.destroyAllWindows()"
   ]
  }
 ],
 "metadata": {
  "kernelspec": {
   "display_name": "Python 2",
   "language": "python",
   "name": "python2"
  },
  "language_info": {
   "codemirror_mode": {
    "name": "ipython",
    "version": 2
   },
   "file_extension": ".py",
   "mimetype": "text/x-python",
   "name": "python",
   "nbconvert_exporter": "python",
   "pygments_lexer": "ipython2",
   "version": "2.7.13"
  }
 },
 "nbformat": 4,
 "nbformat_minor": 2
}
