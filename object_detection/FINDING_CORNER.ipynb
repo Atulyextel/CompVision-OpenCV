{
 "cells": [
  {
   "cell_type": "code",
   "execution_count": 1,
   "metadata": {
    "collapsed": true
   },
   "outputs": [],
   "source": [
    "import cv2\n",
    "import numpy as np\n",
    "\n",
    "# Load image then grayscale\n",
    "image = cv2.imread('images/chess.jpg')\n",
    "gray = cv2.cvtColor(image, cv2.COLOR_BGR2GRAY)\n",
    "gray = np.float32(gray)\n",
    "\n",
    "harris_corners = cv2.cornerHarris(gray, 3, 3, 0.05)\n",
    "\n",
    "#We use dilation of the corner points to enlarge them\\\n",
    "#kernel = np.ones((7,7),np.uint8)\n",
    "#harris_corners = cv2.dilate(harris_corners, kernel, iterations = 2)\n",
    "\n",
    "image[harris_corners > 0.025 * harris_corners.max() ] = [255, 127, 127]\n",
    "\n",
    "cv2.imshow('Harris Corners', image)\n",
    "cv2.waitKey(0)\n",
    "cv2.destroyAllWindows()"
   ]
  },
  {
   "cell_type": "code",
   "execution_count": null,
   "metadata": {
    "collapsed": true
   },
   "outputs": [],
   "source": []
  }
 ],
 "metadata": {
  "kernelspec": {
   "display_name": "Python 2",
   "language": "python",
   "name": "python2"
  },
  "language_info": {
   "codemirror_mode": {
    "name": "ipython",
    "version": 2
   },
   "file_extension": ".py",
   "mimetype": "text/x-python",
   "name": "python",
   "nbconvert_exporter": "python",
   "pygments_lexer": "ipython2",
   "version": "2.7.13"
  }
 },
 "nbformat": 4,
 "nbformat_minor": 2
}
